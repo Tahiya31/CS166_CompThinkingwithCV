{
  "nbformat": 4,
  "nbformat_minor": 0,
  "metadata": {
    "colab": {
      "provenance": [],
      "authorship_tag": "ABX9TyNxIxyBcg+Q0YPoMob4A8AH",
      "include_colab_link": true
    },
    "kernelspec": {
      "name": "python3",
      "display_name": "Python 3"
    },
    "language_info": {
      "name": "python"
    }
  },
  "cells": [
    {
      "cell_type": "markdown",
      "metadata": {
        "id": "view-in-github",
        "colab_type": "text"
      },
      "source": [
        "<a href=\"https://colab.research.google.com/github/Tahiya31/CS166_CompThinkingwithCV/blob/main/CS166_Homework0.ipynb\" target=\"_parent\"><img src=\"https://colab.research.google.com/assets/colab-badge.svg\" alt=\"Open In Colab\"/></a>"
      ]
    },
    {
      "cell_type": "markdown",
      "source": [
        "## Let's try some Jupyter basics!"
      ],
      "metadata": {
        "id": "jyMuswG77v8h"
      }
    },
    {
      "cell_type": "markdown",
      "source": [
        "Every notebook consists of several cells. Each cell can be a code cell or a markdown cell.\n",
        "\n",
        "A markdown cell is for describing what we are doing (just like this cell!). <br> A code cell contains computer code. We will be using python for this class, but the computer code could also be R or another programming language.\n",
        "\n",
        "A code cell has square brackets to the left of it and a number for the cell; a markdown cell doesn't.\n",
        "\n",
        "**Now you try!**"
      ],
      "metadata": {
        "id": "D9CUom9w74JB"
      }
    },
    {
      "cell_type": "code",
      "source": [
        "# create a Text cell going to the top menu\n",
        "# copy paste this cell content in that cell\n",
        "# then run by hitting shift + enter"
      ],
      "metadata": {
        "id": "5H425Lrh74sV"
      },
      "execution_count": null,
      "outputs": []
    },
    {
      "cell_type": "markdown",
      "source": [
        "**Let's try some other things and notice what happens!**"
      ],
      "metadata": {
        "id": "hNCjq2tP8Ck9"
      }
    },
    {
      "cell_type": "markdown",
      "source": [
        "* click into this markdown cell. What do you see?\n",
        "* click into the code cell below.\n",
        "* click the up arrow and watch the selected cell move.\n",
        "* now click the down arrow.\n",
        "* now click the '+' symbol to add a cell.\n",
        "* now click the scissors to delete a cell.\n",
        "* now go to the \"Edit\" menu and undo (useful when we accidentally delete cells!)\n",
        "* finally, to save - hit the disk icon on top left corner or Ctrl+S."
      ],
      "metadata": {
        "id": "XeKb_fVk8FSH"
      }
    },
    {
      "cell_type": "code",
      "source": [
        "#print(Write your name here)"
      ],
      "metadata": {
        "id": "VgRk0Q-_7_Sb"
      },
      "execution_count": null,
      "outputs": []
    },
    {
      "cell_type": "markdown",
      "source": [
        "**Bonus** Can you print 'Hello World'?"
      ],
      "metadata": {
        "id": "yBG6iDs18W0i"
      }
    },
    {
      "cell_type": "code",
      "source": [
        "## write your code here"
      ],
      "metadata": {
        "id": "zfyWP7of8jqz"
      },
      "execution_count": null,
      "outputs": []
    },
    {
      "cell_type": "code",
      "source": [],
      "metadata": {
        "id": "rZp-oAgb8l4P"
      },
      "execution_count": null,
      "outputs": []
    }
  ]
}